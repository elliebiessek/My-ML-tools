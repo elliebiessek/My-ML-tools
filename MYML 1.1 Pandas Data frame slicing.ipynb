{
 "cells": [
  {
   "cell_type": "markdown",
   "metadata": {},
   "source": [
    "<div class=\"alert alert-info alertinfo\" style=\"margin-top: 0px\">\n",
    "<h1>  Pandas Data frame slicing </h1>\n",
    "</div>"
   ]
  },
  {
   "cell_type": "markdown",
   "metadata": {},
   "source": [
    "<div class=\"alert-success \" style=\"margin-top: 0px\">\n",
    "<h1> Create a data frame from two arrays </h1>\n",
    "</div>"
   ]
  },
  {
   "cell_type": "code",
   "execution_count": null,
   "metadata": {},
   "outputs": [],
   "source": [
    "dfv = pd.DataFrame((zip(x_pred, y_pred)), columns =['x_pred', 'y_pred'])"
   ]
  },
  {
   "cell_type": "markdown",
   "metadata": {},
   "source": [
    "<div class=\"alert-success \" style=\"margin-top: 0px\">\n",
    "    <h1> Select</h1>\n",
    "</div>"
   ]
  },
  {
   "cell_type": "code",
   "execution_count": null,
   "metadata": {},
   "outputs": [],
   "source": [
    "#Select all rows where value in column \"column_name\" = value\n",
    "df[df.column_name==value]\n",
    "or\n",
    "df.loc[df['Cluster Labels']==0]"
   ]
  },
  {
   "cell_type": "code",
   "execution_count": null,
   "metadata": {},
   "outputs": [],
   "source": [
    "#Select all rows based on multiple condition\n",
    "df[(df.column_name==value1)|(df.column_name==value2)]"
   ]
  },
  {
   "cell_type": "code",
   "execution_count": null,
   "metadata": {},
   "outputs": [],
   "source": [
    "#Select all rows where column contains string\n",
    "df[df['column'].str.contains(\"string\")]"
   ]
  },
  {
   "cell_type": "markdown",
   "metadata": {},
   "source": [
    "<div class=\"alert-success \" style=\"margin-top: 0px\">\n",
    "    <h1> Loc/iloc</h1>\n",
    "</div>"
   ]
  },
  {
   "cell_type": "code",
   "execution_count": null,
   "metadata": {},
   "outputs": [],
   "source": [
    "#select row a, column b (where a and b are the respective names)\n",
    "df.loc['a','b']"
   ]
  },
  {
   "cell_type": "markdown",
   "metadata": {},
   "source": [
    "<div class=\"alert-success \" style=\"margin-top: 0px\">\n",
    "    <h1> Aggregate functions</h1>\n",
    "</div>"
   ]
  },
  {
   "cell_type": "code",
   "execution_count": null,
   "metadata": {},
   "outputs": [],
   "source": [
    "# to sort out index issues after aggregating\n",
    "df=df2.groupby(['District']).agg([np.average]).reset_index()\n",
    "df.columns = df.columns.droplevel(1)\n",
    "df.head(2)"
   ]
  },
  {
   "cell_type": "code",
   "execution_count": null,
   "metadata": {},
   "outputs": [],
   "source": [
    "# Average - find average of column Basepay\n",
    "df['BasePay'].mean()"
   ]
  },
  {
   "cell_type": "code",
   "execution_count": null,
   "metadata": {},
   "outputs": [],
   "source": [
    "# Sum - find average of column Basepay\n",
    "df['BasePay'].sum()"
   ]
  },
  {
   "cell_type": "code",
   "execution_count": null,
   "metadata": {},
   "outputs": [],
   "source": [
    "# Sum - for every column sum all rows\n",
    "df.sum(axis=0)"
   ]
  },
  {
   "cell_type": "markdown",
   "metadata": {},
   "source": [
    "<div class=\"alert-success \" style=\"margin-top: 0px\">\n",
    "    <h1> Sort </h1>\n",
    "</div>"
   ]
  },
  {
   "cell_type": "code",
   "execution_count": null,
   "metadata": {},
   "outputs": [],
   "source": [
    "# sort by column - sort by column'Average Income'\n",
    "df.sort_values(by=['Average Income'], ascending=False)"
   ]
  },
  {
   "cell_type": "markdown",
   "metadata": {},
   "source": [
    "<div class=\"alert-success \" style=\"margin-top: 0px\">\n",
    "    <h1> Find</h1>\n",
    "</div>"
   ]
  },
  {
   "cell_type": "code",
   "execution_count": null,
   "metadata": {},
   "outputs": [],
   "source": [
    "#Knowing one cell, get the value of another ex.Knowing that EmployeeName is Gary Jiminez, find his JobTitle\n",
    "df[df['EmployeeName']=='GARY JIMENEZ']['JobTitle']"
   ]
  },
  {
   "cell_type": "code",
   "execution_count": null,
   "metadata": {
    "collapsed": true
   },
   "outputs": [],
   "source": [
    "#Find value when another column is max - Find EmployeeName when TotalPayBenefits is max\n",
    "df[df['TotalPayBenefits']==df['TotalPayBenefits'].max()]['EmployeeName']"
   ]
  },
  {
   "cell_type": "code",
   "execution_count": null,
   "metadata": {
    "collapsed": true
   },
   "outputs": [],
   "source": [
    "#Find all different values and their frequencies in a column\n",
    "df['column'].value_counts()"
   ]
  },
  {
   "cell_type": "markdown",
   "metadata": {},
   "source": [
    "<div class=\"alert-success \" style=\"margin-top: 0px\">\n",
    "<h1> List </h1>\n",
    "</div>"
   ]
  },
  {
   "cell_type": "code",
   "execution_count": null,
   "metadata": {
    "collapsed": true
   },
   "outputs": [],
   "source": [
    "#List top n most common - value_counts()\n",
    "df['column'].value_counts().head(n)"
   ]
  },
  {
   "cell_type": "markdown",
   "metadata": {},
   "source": [
    "<div class=\"alert-success \" style=\"margin-top: 0px\">\n",
    "<h1> Groupby </h1>\n",
    "</div>"
   ]
  },
  {
   "cell_type": "code",
   "execution_count": null,
   "metadata": {
    "collapsed": true
   },
   "outputs": [],
   "source": [
    "#Group by one column, give average of another - Group by Year, give average of BasePay\n",
    "df.groupby('Year').mean()['BasePay']"
   ]
  },
  {
   "cell_type": "code",
   "execution_count": null,
   "metadata": {},
   "outputs": [],
   "source": [
    "# Group by one column, give average of another - Group by Year, give average of BasePay\n",
    "df.groupby('Pclass').count()['Age']"
   ]
  },
  {
   "cell_type": "markdown",
   "metadata": {
    "collapsed": true
   },
   "source": [
    "<div class=\"alert-success \" style=\"margin-top: 0px\">\n",
    "<h1> Unique </h1>\n",
    "</div>"
   ]
  },
  {
   "cell_type": "code",
   "execution_count": null,
   "metadata": {},
   "outputs": [],
   "source": [
    "#unique gives array of all unique values\n",
    "df.District.unique()"
   ]
  },
  {
   "cell_type": "code",
   "execution_count": null,
   "metadata": {
    "collapsed": true
   },
   "outputs": [],
   "source": [
    "#nunique gives total count\n",
    "df['column'].nunique()"
   ]
  },
  {
   "cell_type": "markdown",
   "metadata": {},
   "source": [
    "<div class=\"alert-success \" style=\"margin-top: 0px\">\n",
    "<h1> How many </h1>\n",
    "</div>"
   ]
  },
  {
   "cell_type": "code",
   "execution_count": null,
   "metadata": {
    "collapsed": true
   },
   "outputs": [],
   "source": [
    "# Find how many specific entries in a particular column\n",
    "df[df['column']=='entry'].count()\n",
    "or\n",
    "(df['Ticket']=='347077').sum()"
   ]
  },
  {
   "cell_type": "code",
   "execution_count": null,
   "metadata": {
    "collapsed": true
   },
   "outputs": [],
   "source": [
    "# Find when column only has one entry - How many Job Titles were represented by only one person in 2013? \n",
    "sum(df[df['Year']==2013]['column'].value_counts() == 1)"
   ]
  },
  {
   "cell_type": "code",
   "execution_count": null,
   "metadata": {
    "collapsed": true
   },
   "outputs": [],
   "source": [
    "#How many entries satisfying condition in a column? - How many people have the word blabla in their column? \n",
    "def func(x):\n",
    "    if 'blabla' in x.lower():\n",
    "        return True\n",
    "    else:\n",
    "        return False\n",
    "sum(sal['column'].apply(lambda x: func(x)))"
   ]
  },
  {
   "cell_type": "code",
   "execution_count": null,
   "metadata": {
    "collapsed": true
   },
   "outputs": [],
   "source": [
    "#How many entries of form xx/25 in a column? - How many people have a credit card that expires in 2025?\n",
    "sum(df['CC Exp Date'].apply(lambda x: x[3:]) == '25')"
   ]
  },
  {
   "cell_type": "code",
   "execution_count": null,
   "metadata": {
    "collapsed": true
   },
   "outputs": [],
   "source": [
    "How many entries with same part after @ in a column? - Split after @\n",
    "df['Email'].apply(lambda x: x.split('@')[1]).value_counts()"
   ]
  },
  {
   "cell_type": "markdown",
   "metadata": {},
   "source": [
    "<div class=\"alert-success \" style=\"margin-top: 0px\">\n",
    "<h1> Column names </h1>\n",
    "</div>"
   ]
  },
  {
   "cell_type": "code",
   "execution_count": null,
   "metadata": {},
   "outputs": [],
   "source": [
    "# column names\n",
    "df.columns.tolist()"
   ]
  },
  {
   "cell_type": "code",
   "execution_count": null,
   "metadata": {},
   "outputs": [],
   "source": [
    "# column names that begins with a string\n",
    "df.columns[df.columns.str.startwith('string')]"
   ]
  },
  {
   "cell_type": "code",
   "execution_count": null,
   "metadata": {},
   "outputs": [],
   "source": [
    "# delete spaces in column names\n",
    "df.columns.str.replace(' ','')"
   ]
  },
  {
   "cell_type": "code",
   "execution_count": null,
   "metadata": {},
   "outputs": [],
   "source": [
    "# rename column\n",
    "df = df.rename(columns={'Old': 'New'})"
   ]
  },
  {
   "cell_type": "markdown",
   "metadata": {},
   "source": [
    "<div class=\"alert-success \" style=\"margin-top: 0px\">\n",
    "<h1> For loops </h1>\n",
    "</div>"
   ]
  },
  {
   "cell_type": "code",
   "execution_count": null,
   "metadata": {},
   "outputs": [],
   "source": [
    "#iterating over every element from given column\n",
    "title_index=df_choice.columns.get_loc('Title_original')\n",
    "for i in df_choice.index:\n",
    "    t=df_choice.iloc[i,title_index]\n",
    "    print(t)"
   ]
  },
  {
   "cell_type": "code",
   "execution_count": null,
   "metadata": {},
   "outputs": [],
   "source": [
    "title_index=df_choice.columns.get_loc('Title_original')\n",
    "age_index=df_choice.columns.get_loc('Age')\n",
    "average_series = df_choice.groupby('Title_original').median()['Age']\n",
    "df_average = average_series.to_frame()\n",
    "df_average.reset_index(level=0, inplace=True)\n",
    "\n",
    "for i in df_choice.index:\n",
    "    t=df_choice.iloc[i,title_index]\n",
    "    a=df_average[df_average['Title_original']==t]['Age']\n",
    "    b=pd.isnull(df_choice.iloc[i,age_index])    \n",
    "    if b==True:        \n",
    "        df_choice.iat[i,age_index]=a\n",
    "    else:\n",
    "        pass"
   ]
  },
  {
   "cell_type": "code",
   "execution_count": null,
   "metadata": {},
   "outputs": [],
   "source": [
    "def replaceMissingAgesWithValueByTitle(data,values,feature):\n",
    "    '''\n",
    "        this function get dataframe and map object like {Mr:10,Mrs:30,.....} and replace every missing age with the value fromthe values by title\n",
    "    '''\n",
    "    data[feature] = data['Age']\n",
    "    def handleMissingAge(row):\n",
    "        if np.isnan(row['Age']):\n",
    "            row[feature] = int(values[row['Title_original']]) ## here replace nan value with the value from values by title \n",
    "        return row\n",
    "    return data.apply(handleMissingAge,axis=1)\n",
    "\n",
    "ages_mean_by_title = df.groupby('Title').agg(np.mean)['Age']\n",
    "df = replaceMissingAgesWithValueByTitle(df,ages_mean_by_title,'age_mean')\n",
    "df.head()"
   ]
  }
 ],
 "metadata": {
  "kernelspec": {
   "display_name": "Python 3",
   "language": "python",
   "name": "python3"
  },
  "language_info": {
   "codemirror_mode": {
    "name": "ipython",
    "version": 3
   },
   "file_extension": ".py",
   "mimetype": "text/x-python",
   "name": "python",
   "nbconvert_exporter": "python",
   "pygments_lexer": "ipython3",
   "version": "3.7.6"
  }
 },
 "nbformat": 4,
 "nbformat_minor": 2
}
